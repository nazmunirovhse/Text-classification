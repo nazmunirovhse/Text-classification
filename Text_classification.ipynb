{
  "cells": [
    {
      "cell_type": "markdown",
      "metadata": {
        "id": "Zi8Fua_j2nXt"
      },
      "source": [
        "## Классификация текстов"
      ]
    },
    {
      "cell_type": "markdown",
      "metadata": {
        "id": "DepVeQI52nX2"
      },
      "source": [
        "Ссылка на соревнование: https://www.kaggle.com/c/avito-category-prediction/overview"
      ]
    },
    {
      "cell_type": "code",
      "execution_count": 1,
      "metadata": {
        "id": "t_d3E9dt2nX5"
      },
      "outputs": [],
      "source": [
        "import pandas as pd\n",
        "import random\n",
        "random.seed(500)"
      ]
    },
    {
      "cell_type": "code",
      "execution_count": null,
      "metadata": {
        "id": "6mKUMA5w2nX7"
      },
      "outputs": [],
      "source": [
        "train = pd.read_csv('avito-category-prediction/train.csv')\n",
        "test = pd.read_csv('avito-category-prediction/test.csv')"
      ]
    },
    {
      "cell_type": "code",
      "execution_count": null,
      "metadata": {
        "id": "-lCx4oRp2nX8",
        "outputId": "8cdeb30d-d011-4d11-d01d-960cb1ffa3aa"
      },
      "outputs": [
        {
          "data": {
            "text/html": [
              "<div>\n",
              "<style scoped>\n",
              "    .dataframe tbody tr th:only-of-type {\n",
              "        vertical-align: middle;\n",
              "    }\n",
              "\n",
              "    .dataframe tbody tr th {\n",
              "        vertical-align: top;\n",
              "    }\n",
              "\n",
              "    .dataframe thead th {\n",
              "        text-align: right;\n",
              "    }\n",
              "</style>\n",
              "<table border=\"1\" class=\"dataframe\">\n",
              "  <thead>\n",
              "    <tr style=\"text-align: right;\">\n",
              "      <th></th>\n",
              "      <th>title</th>\n",
              "      <th>description</th>\n",
              "      <th>Category_name</th>\n",
              "      <th>Category</th>\n",
              "    </tr>\n",
              "  </thead>\n",
              "  <tbody>\n",
              "    <tr>\n",
              "      <th>0</th>\n",
              "      <td>Эбу Renault / Nissan 1,5 DCI Delphi 2001-2008 год</td>\n",
              "      <td>Комплект ЭБУ (мозги, компьютер мотора, двигате...</td>\n",
              "      <td>Запчасти и аксессуары</td>\n",
              "      <td>10</td>\n",
              "    </tr>\n",
              "    <tr>\n",
              "      <th>1</th>\n",
              "      <td>Утюг утп 1000 ватт СССР 1987 год</td>\n",
              "      <td>Продам/\\n Фото № 1-2 /\\n /\\nУтюг УТП 1000 ватт...</td>\n",
              "      <td>Бытовая техника</td>\n",
              "      <td>21</td>\n",
              "    </tr>\n",
              "    <tr>\n",
              "      <th>2</th>\n",
              "      <td>Возвму машину с выкупом</td>\n",
              "      <td>Возьму машину в аренду с последующим выкупом н...</td>\n",
              "      <td>Предложение услуг</td>\n",
              "      <td>114</td>\n",
              "    </tr>\n",
              "    <tr>\n",
              "      <th>3</th>\n",
              "      <td>Полусапожки</td>\n",
              "      <td>полусапожки в отличном состоянии, один раз оде...</td>\n",
              "      <td>Одежда, обувь, аксессуары</td>\n",
              "      <td>27</td>\n",
              "    </tr>\n",
              "    <tr>\n",
              "      <th>4</th>\n",
              "      <td>Босоножки кожаные</td>\n",
              "      <td>Кожаные(натур) босоножки Karlo Pasolini, 40 рр...</td>\n",
              "      <td>Одежда, обувь, аксессуары</td>\n",
              "      <td>27</td>\n",
              "    </tr>\n",
              "  </tbody>\n",
              "</table>\n",
              "</div>"
            ],
            "text/plain": [
              "                                               title  \\\n",
              "0  Эбу Renault / Nissan 1,5 DCI Delphi 2001-2008 год   \n",
              "1                   Утюг утп 1000 ватт СССР 1987 год   \n",
              "2                            Возвму машину с выкупом   \n",
              "3                                        Полусапожки   \n",
              "4                                  Босоножки кожаные   \n",
              "\n",
              "                                         description  \\\n",
              "0  Комплект ЭБУ (мозги, компьютер мотора, двигате...   \n",
              "1  Продам/\\n Фото № 1-2 /\\n /\\nУтюг УТП 1000 ватт...   \n",
              "2  Возьму машину в аренду с последующим выкупом н...   \n",
              "3  полусапожки в отличном состоянии, один раз оде...   \n",
              "4  Кожаные(натур) босоножки Karlo Pasolini, 40 рр...   \n",
              "\n",
              "               Category_name  Category  \n",
              "0      Запчасти и аксессуары        10  \n",
              "1            Бытовая техника        21  \n",
              "2          Предложение услуг       114  \n",
              "3  Одежда, обувь, аксессуары        27  \n",
              "4  Одежда, обувь, аксессуары        27  "
            ]
          },
          "execution_count": 3,
          "metadata": {},
          "output_type": "execute_result"
        }
      ],
      "source": [
        "train.head()"
      ]
    },
    {
      "cell_type": "code",
      "execution_count": null,
      "metadata": {
        "id": "Y0uR88Q22nX9",
        "outputId": "f79456c3-71af-4742-bdf9-6ecfb0fcbc9c"
      },
      "outputs": [
        {
          "data": {
            "text/plain": [
              "(4234042, 4)"
            ]
          },
          "execution_count": 4,
          "metadata": {},
          "output_type": "execute_result"
        }
      ],
      "source": [
        "train.shape"
      ]
    },
    {
      "cell_type": "code",
      "execution_count": null,
      "metadata": {
        "id": "b-2DCs5J2nYB",
        "outputId": "25a6dbee-aa8c-4de2-e7a4-75cac9461b7f"
      },
      "outputs": [
        {
          "name": "stdout",
          "output_type": "stream",
          "text": [
            "True\n",
            "title            0\n",
            "description      2\n",
            "Category_name    0\n",
            "Category         0\n",
            "dtype: int64\n"
          ]
        }
      ],
      "source": [
        "# Проверю наличие пропусков в тренировочной выборке\n",
        "print(train.isnull().any().any())\n",
        "print(train.isnull().sum())"
      ]
    },
    {
      "cell_type": "code",
      "execution_count": null,
      "metadata": {
        "id": "AKvyQ5Z42nYD",
        "outputId": "7ab9438e-665b-4378-bc87-b2d4d60772ee"
      },
      "outputs": [
        {
          "name": "stdout",
          "output_type": "stream",
          "text": [
            "True\n",
            "title          0\n",
            "description    1\n",
            "itemid         0\n",
            "dtype: int64\n"
          ]
        }
      ],
      "source": [
        "# Проверю наличие пропусков в тестовой выборке\n",
        "print(test.isnull().any().any())\n",
        "print(test.isnull().sum())"
      ]
    },
    {
      "cell_type": "code",
      "execution_count": null,
      "metadata": {
        "id": "Dz1oxJhd2nYE"
      },
      "outputs": [],
      "source": [
        "# Заполняю пропуски для тренировочной и тестовой воборок\n",
        "train[\"description\"] = train[\"description\"].fillna(\"\")\n",
        "test[\"description\"] = test[\"description\"].fillna(\"\")"
      ]
    },
    {
      "cell_type": "code",
      "execution_count": null,
      "metadata": {
        "id": "ytZwZQKG2nYF",
        "outputId": "c646ddf5-c8cf-4047-a5d2-4424eed56609"
      },
      "outputs": [
        {
          "name": "stdout",
          "output_type": "stream",
          "text": [
            "False\n",
            "False\n"
          ]
        }
      ],
      "source": [
        "# Еще раз проверим наличиепропусков\n",
        "print(train.isnull().any().any())\n",
        "print(test.isnull().any().any())"
      ]
    },
    {
      "cell_type": "markdown",
      "metadata": {
        "id": "Ycy1bh9a2nYF"
      },
      "source": [
        "Cконкатенирую заголовок и описание в единую строку и помещу результат в отдельный столбец. "
      ]
    },
    {
      "cell_type": "code",
      "execution_count": null,
      "metadata": {
        "id": "Zal2In232nYG"
      },
      "outputs": [],
      "source": [
        "# Создаю новый столбец\n",
        "train[\"td\"] = train[\"title\"] + \" \" + train[\"description\"] # соединяю колнки title и description\n",
        "test[\"td\"] = test[\"title\"] + \" \" + test[\"description\"] # соединяю колнки title и description\n",
        "\n",
        "# Удаляю старые столбцы\n",
        "train = train.drop(columns = [\"title\", \"description\"]) # удаляю колнки title и description\n",
        "test = test.drop(columns = [\"title\", \"description\"]) # удаляю колнки title и description"
      ]
    },
    {
      "cell_type": "code",
      "execution_count": null,
      "metadata": {
        "id": "-AQsLcSj2nYH",
        "outputId": "509c30bc-96bc-4542-8368-410eb9af5ca0"
      },
      "outputs": [
        {
          "name": "stdout",
          "output_type": "stream",
          "text": [
            "Необходимо предсказать: 50 классов\n"
          ]
        }
      ],
      "source": [
        "# Выведу количество уникальныз классов, которые необходимо предсказать\n",
        "print(\"Необходимо предсказать:\", train[\"Category\"].value_counts().count(), \"классов\")"
      ]
    },
    {
      "cell_type": "code",
      "execution_count": null,
      "metadata": {
        "id": "Msvb54zy2nYH",
        "outputId": "35bda742-93be-4421-8735-65baf9766dd0"
      },
      "outputs": [
        {
          "data": {
            "image/png": "[encoded data removed]",
            "text/plain": [
              "<Figure size 1008x648 with 1 Axes>"
            ]
          },
          "metadata": {
            "needs_background": "light"
          },
          "output_type": "display_data"
        }
      ],
      "source": [
        "# Построю столбчатую диаграмму при помощи библиотеки seaborn  \n",
        "import seaborn as sns\n",
        "from matplotlib import pyplot as plt\n",
        "fig = plt.figure(figsize = (14,9)) # задаю размер графика\n",
        "\n",
        "sns.histplot(train[\"Category\"], stat = \"probability\") # строю график\n",
        "plt.show()"
      ]
    },
    {
      "cell_type": "code",
      "execution_count": null,
      "metadata": {
        "id": "_BIUl2oe2nYI",
        "outputId": "51f1d5ce-29c1-4573-e738-0c4f4673c26e"
      },
      "outputs": [
        {
          "name": "stdout",
          "output_type": "stream",
          "text": [
            "Разброс долей:  0.18066778742393202\n",
            "Класс с наибольшей долей:  27\n",
            "Доля:  0.1807067572782698\n",
            "Класс с наименьшей долей:  86\n",
            "Доля:  3.8969854337769914e-05\n"
          ]
        }
      ],
      "source": [
        "# Вывожу максимальную разницу между долями классов\n",
        "print(\"Разброс долей: \", train[\"Category\"].value_counts().values[0]/len(train) - train[\"Category\"].value_counts().values[49]/len(train))\n",
        "\n",
        "# Вывожу класс с наибольшей долей в тренировочной выборке и саму долю\n",
        "print(\"Класс с наибольшей долей: \", train[\"Category\"].value_counts().index[0]) # вывожу класс первого элемента в массиве подсчета значений\n",
        "print(\"Доля: \", train[\"Category\"].value_counts().values[0]/len(train)) # вывожу долю первого элемента в массиве подсчета значений\n",
        "\n",
        "# Вывожу класс с наименьшей долей в тренировочной выборке и саму долю\n",
        "print(\"Класс с наименьшей долей: \", train[\"Category\"].value_counts().index[49]) # вывожу класс последнего элемента в массиве подсчета значений\n",
        "print(\"Доля: \", train[\"Category\"].value_counts().values[49]/len(train)) # вывожу долю последнего элемента в массиве подсчета значений"
      ]
    },
    {
      "cell_type": "markdown",
      "metadata": {
        "id": "kxxeJlUD2nYI"
      },
      "source": [
        "### Предобработка данных\n"
      ]
    },
    {
      "cell_type": "code",
      "execution_count": null,
      "metadata": {
        "id": "DzkHGIex2nYJ"
      },
      "outputs": [],
      "source": [
        "from sklearn.feature_extraction.text import CountVectorizer \n",
        "cnt_vec = CountVectorizer() # создаю объект класса\n",
        "X = cnt_vec.fit_transform(train[\"td\"]) # применяю CountVectorizer для тренировочных данных"
      ]
    },
    {
      "cell_type": "code",
      "execution_count": null,
      "metadata": {
        "id": "WIMaC0Fm2nYJ",
        "outputId": "7a10d90d-5943-4ec5-9798-71c8af57973f"
      },
      "outputs": [
        {
          "data": {
            "text/plain": [
              "<4234042x2125805 sparse matrix of type '<class 'numpy.int64'>'\n",
              "\twith 150918485 stored elements in Compressed Sparse Row format>"
            ]
          },
          "execution_count": 14,
          "metadata": {},
          "output_type": "execute_result"
        }
      ],
      "source": [
        "X"
      ]
    },
    {
      "cell_type": "markdown",
      "metadata": {
        "id": "5h4BP-e12nYL"
      },
      "source": [
        "Размер матрицы составляет 4234042x2125805 "
      ]
    },
    {
      "cell_type": "code",
      "execution_count": null,
      "metadata": {
        "id": "qdrDv9tl2nYM",
        "outputId": "39fcab39-6e6f-451f-b4f3-51d2b1244ae0"
      },
      "outputs": [
        {
          "name": "stdout",
          "output_type": "stream",
          "text": [
            "Всего слов, которые начинаются с цифры:  610871\n",
            "Все слова, которые начинаются на символы пунткуации:\n",
            " ['____________________________________________________', '______________________________________________________', '____________________________________________________________', '________________________________________________________', '_______________________________________________________', '______________________', '__основы', '__изучение', '__импровизация', '__жанровые', '___________________________________________', '__________________', '______________________________________________', '_____________________________________________________', '________________________________', '__________________________________________________', '________________________', '_________________________', '__________________________', '___________________________', '___________________________________________________', '________________________________________________', '__________________________________', '_______________________________________________________________', '______________', '__________________________________________', '_____________________________', '____________________________________________', '________________________________________', '_____наши', '______________________________', '__', '_______________________________', '___________________________________', '________', '____________________________________', '______________________________________', '_____________________________________', '_________________________________________________________', '_________________________________________________', '_____', '_______________________________________________', '______', '_____________________________________________', '____', '__________________________________________________________', '_пт', '_вс', '____________________________', '_______________________', '_______', '___________', '_________________________________________', '__________________звоните', '_____________________', '___________________', '_огромный', '_низкие', '_быстрая', '_нажми', '___', '_________________________________', '_спецификация_', '_______14390', '_________', '____12', '__________________________________________________________________', '___1200р___', '___2000___', '___2500___', '___1600___', '___600___', '___350___', '_____________', '_линолиум', '_______________________________________', '___________________________________________________________', '____________________________________________________________________', '____________________', '_____________________________________________________________________________________', '_звоните', '_капельный', '_затеняющая', '_изготавливаем', '_заказ', '_цены', '_на', '_если', '___________часы', '_______________', '__________', '_iron_forest_', '_tvoya_kukla_', '______характеристика', '________описание_______', '_9', '_строим', '_уборка', '_офис', '_г', '___как', '___доставка', '___оплата', '_____на', '______________________________________________________________', '___уютная', '___кирпичный', '___хорошие', '___квартира', '___звонить', '______продажа', '____________доставка', '__________________________________________________________________________________________________________________', '____________вывоз', '____________________________________________________________________________________________________________________________________', '___________________________________________________________________________________________________________________________________', '____________________________________________________________________________', '_____________________________________________________________________', '_______________________________________________________________________', '_b', '_whatsapp', '________________', '___________________________________________________________________________________', '____группа', '_________________', '_e11_', '_____________________почему', '_________________________________________________________________', '______________________звоните', '_50', '________________________________________________________________', '__кo_ричнeвыe', '__н_овыe', '____квадратные', '___условия', '____хaрaктестики', '_dress_msk', '________177', '________211', '__25литр', '_0m', '_66', '_2_', '_86', '_250руб', '_полнофункциональный', '_независимая', '_регулировка', '_выбор', '_определение', '_studio_dali_', '_доставляем', '_через', '_____все', '_425_руб', '_rita_p_', '_________________________________________________________________________________________________', '__dvr34', '_попутные', '_и', '_габариты', '_размер', '_доступные', '_дополнительная', '________________интересен', '_________________интересен', '_ri', '_чёрный', '________________________________________________________________________________', '_______________tiglev________________', '_оптом', '_все', '______________________________________________________________________________________________', '_2шт', '_a', '____________услуги', '_acrylic', '__151_161', '____________', '___________________________________________следите', '_20активно', '______альфаинтерком', '______________________доставка________________________', '_52', '___________________________________________________________________', '___________________________________________________________________________', '_ekbmanikiur', '_127б', '_____________________наш', '__смотрите', '_литые', '_краткий', '_x000d_', '_____________________________________________________________', '_rapture', '__________режим', '_сезонное', '_пкф', '________________ооо', '_______6330', '_шереметьево', '_отдам', '____________цены', '_500', '_любой', '_olegradchuk_', '_бесплатно_', '_unicorn_slimes', '______________________еще', '_nail_factory_', '___ю', '____п', '____полякова', '___куликова', '_____купи', '_также', '_____магазин', '___250', '_35', '_48', '_бесплатная', '_винтажное', '______________график', '_core', '_i5', '_3', '_2019', '_снос', '__выезд', '__самые', '__24', '__гарантия', '_sakharboom_', '_2500', '_olga_star_detkam_', '_botox_ulyanovsk', '_e81', '_e46', '_e90', '_e39', '_e60', '_e63', '_e38', '_e65', '_archive', '_пеногаситель', '_кран', '_б', '_охладитель', '_новые', '_термостат_350руб', '_мотор', '_помпа', '_кобра', '_4500руб', '_6500руб', '_9000руб', '_11000руб', '_башня', '_11500руб', '_13500руб', '_18000руб', '_2000руб', '_4000руб', '_5000руб', '_пластик', '_300руб', '_металл', '_краны', '_1200руб', '_2500руб', '_800руб', '_1500руб', '_wintap', '_2900руб', '_4300руб', '_4200руб', '_5200руб', '_pegas', '_1900руб', '_пегас', '_3100руб', '_тип', '_1300руб', '_1600руб', '_1000руб', '_1400руб', '_ремкомплект', '_150руб', '_шланг', '_950руб', '_3000руб', '_соеденители', '_тройник', '_60руб', '_хомут', '_6руб', '_хлорка', '_120руб', '_home', '_fancy_fly_', '_охота', '_след', '_крючок', '_пляска', '_пристрастие', '_комната', '___и___', '____можно', '____коллаген_', '____бца', '____комплес', '__________________________________________________________посмотреть', '_e12_', '_vasdom_', '_1штука', '_autotop_', '_sleeppanda_', '_синий', '____600рублей____', '_кодрянка', '_юлия', '_мускат', '____смотрите', '___звоните___', '_как', '___кабина', '__практически', '__на', '__также', '___прежде', '___индивидуальный', '__off_shop__', '___юбилейная', '___2018', '___10', '___ммд', '___г', '__27', '___2', '___биметалл', '___5714', '___300', '___03', '__7', '_невысокая', '_разнообразие', '_эстетическая', '_возможность', '_отличная', '_надежность', '_скорость', '_прочность', '_мы', '_производство', '_парковочные', '_а', '_____________________________________________________________________________', '____________________ценник____________________', '_москитная', '_сетка', '_150', '_259mm', '_______________________________________________________________________________', '_сушилке', '_______________________________________________________________________________________', '_____описание', '_функциональный', '_ботиночки', '_____________2750', '_доска', '_t22_', '________________________________________________________________________________________________', '____________________________________________________________________________________________________________', '_ksushabrow_', '__________авто', '_14m1516', '_anzor_bin_nazir_', '_уткой', '_2', '_1', '_cartersbaby2', '_massimo', '_047', '_в', '_высота', '_033', '_080', '_приходите', '________________________________________________________авто', '_4g', '_100', '_j12_', '_64', '_основа', '____мастер', '_характеристики', '_textilkazanova_', '__магнитолы', '__производим', '____________________________________________площадь', '_полуобьем', '_08m1510', '_08m1524', '_08m1505', '_11m1548', '_08m1511', '____звонить', '___homochka___', '_iphone', '____3вонить_с_пн_по_пт_с_08', '______600р', '________700р', '________900р', '_кабина', '_ооо', '_практически', '_прежде', '_индивидуальный', '_fi', '___white', '______________________________________________________________________', '____любая', '___каждая', '_______________________________________квартира', '________________________________________комнаты', '_____________________________________в', '_yuliya_82_11', '_121114', '_профессиональное', '_снижение', '_удаление', '_отключение', '_прошивка', '_почему', '_1_', '_2009_', '_e28', '_e34', '_e24', '_e23', '_e32', '_e31', '____предлагаем', '____разработка', '____траншеи', '____снос', '____почасовая', '____самосвалы', '____без', '____услуги', '____услуга', '_nec', '_0', '_4', '_5', '_6', '__nl_', '____не', '_осень', '_1000', '_1979', '_200', '_1984', '_800', '_900', '_600', '__с', '__nl', '________________информция______________________', '_выборг', '____________________________________________ретушь', '____автосалон', '_________________________________________________________________________', '_изготовление', '_режу', '_проточка', '_изготавливаю', '_закупаю', '_продаю', '_срочно', '_возможен', '_входную', '_dom_irk', '_56', '_2138', '_______12020', '__чайно', '__четыре', '__комплект', '__чайница', '___чайное', '___________________________________________________________________________________________', '_18599', '_63', '_пэ', '_pn16', '_гладкая', '_россия', '_год', '_композитная', '_1700', '________________внимание', '________распродажа', '_ulanovamaru', '_2012', '_не', '_дизельный', '_колёса', '_есть', '_расход', '_машина', '______1000', '_улица', '_________4600', '__________5050', '__________8050', '__________часы', '_пружинный', '_беспружинный', '_ортопедический', '_непромокаемый', '_france', '_____________________наши', '_______карагач', '_______50', '_______длинна', '______________количество', '_26t1529', '_26t1528', '_24t1501', '_26t1501', '_24t1503', '_26t1503', '_24t1502', '_26t1502', '_24t1504', '_26t1504', '_24c1505', '__предлагаю', '_перо20', '_400', '_250р', '_300', '_рольставни', '_для', '___________нового', '____84139216', '_modnicamodnica', '___материнская', '___процессор', '___память', '___блок', '_большая', '_просторный', '_удачная', '_имеется', '_квартира', '_34m1557', '_34m1553', '_34m1556', '_34m1558', '_34m1554', '_34m1555', '_40', '_african_dream__', '_s_loves', '_свежим', '_angelache_', '__________________преимущества_______________________', '_________________характеристика_______________________', '__________________оплата', '________________гарантия', '_dey', '____вот', '_200р', '_291_', '_121_', '_122_', '_123_', '_120_', '_227_', '_116_', '_126_', '_125_', '_124_', '_129_', '_127_', '____в', '_nails_', '_______7860', '_________________________________________________________самовывоз', '_velomaximus_', '_____________________________________техника10_рф', '_amp', '_1шт', '_книги', '_отравлю', '____управляй', '__________________________________________________________________________________', '__________________________________________________________автомобильный', '_8g', '_очень', '______4550', '___ps4______________________________', '___xbox_one________________________', '____характeстики', '_____8580', '_фейхоа', '_из', '_letu', '_ковбой', '__двигатель', '___средний', '_tvoya_podruzhka_', '_france_mint', '_france_nmint', '__________оплата', '_продано', '_insize', '_____________преимущества__________________', '_____________характеристика_________________', '______________оплата', '______________гарантия', '_victoria', '_http', '_7', '_во', '_____________________________________________________________________________________________________________________________________________________________алмазное', '_главные', '_усилитель_', '_акустика_', '_кассетная', '_оптический', '_радио_', '_интерфейсы_', '_вес', '_дополнительно_', '_крымская', '__________________________________________________________овместимость', '__без', '_prettynails_elena', '_5мин', '_104', '_отличное', '_без', '_cutemake_', '_нч', '_цена', '_кубанские', '_1500р', '_2000р', '_2500р', '_стивен', '_дуглас', '_станислав', '_олдос', '_13', '_цвет', '_airstore_', '_отправлю', '_00', '___стоимость', '_1976', '______________преимущества_______________', '______________характеристика______________', '____10', '_манипулятор', '___________________________________________идёт', '_кольчугина', '_3аварник', '_петрозаводск', '______8880', '_fetryshka', '______________________________________________________________________________', '_meri_drozd_', '_подходит', '____квартира', '_theal1sa_', '_krd', '_008', '_цвeт', '___комплектация___', '___общие', '______________________________________________________________________________________услуги', '_ambakery_', '_поиск', '_полная', '_сборка', '_выполняем', '_работа', '_pryanik_74', '___________________________________________________________________________________________________', '__________________________________________________________________________________________', '_____наличный', '_nail_world_nail_', '___купи', '_joy', '_umiks', '_пиццмейкера', '_46', '_golden_body_', '____________2000р', '______________1500р', '____________800р', '_______500р', '__________________1500р', '__________________________________800р', '_______1000р', '_______________2000р', '__________________________________1000р', '_______________________________2000р', '_________________________________500руб', '_______________________1500руб', '_______________________500руб', '_____________________500р', '_________________________________1500руб', '______________________2000р', '___________________________________500р', '_______________________________1500р', '__________________1000р', '___1000р', '_______________________1000р', '___________________________________1000р', '______________________________1000р', '________________1000р', '_авиастроительная', '_myagkoye_gnezdyshko', '_0g', '__________________________________________________________доступны', '_peugeot', '_______rtx', '_105', '_лето', '_качество', '_julietta_lvl_', '_пункт', '_aliyanails_', '_новороссйск', '_________________________________________________________________________________________________________бесплатный', '_пилинг', '__да', '_shewwm_nails', '_2g', '_идеальном_', '_остерман', '_кутайсов', '__скидки', '_ulybitana_', '____так', '__самовывоз__', '_________________________________________________в', '___________мало', '_15', '_простая', '_заключение', '__n', '_______________________________________________________расширенная', '_______автосалон', '____________________________________________гарантия', '_рено', '_r16', '_______________________3950', '_800р', '_900р', '_3500р', '_5300р', '_1000р', '_цвета', '__e11_', '_103', '_al_monz_', '_showroom_spb', '_под', '_трансформер', '_второй', '_12р', '_108', '__1', '__330', '_240р', '__670р', '_110р', '__220р', '__380р', '_35р', '_180р', '_260р', '_1700р', '_120р', '_650р', '_750р', '_550р', '_________________________выгоды__________________________', '____________________доставка', '_____________________акции', '_______________внимание', '_nails_studio_', '_70р', '____________ссылка', '_требуется', '_транспорт', '_график', '_нет', '_знание', '_оплата', '_отсутствие', '_честная', '_________________________________________________________группа', '_3500', '_смотрите', '___новый____', '_t19_', '______серия', '______фиксы______', '______зумы______', '_100_', '_хлопок_', '_акрил_и_20_шерсть_рост_176_светлый_', '________от', '__________от', '_germany', '_europe', '___продам', '_____бесплатная', '_ост', '_выездные', '_35s1408', '_35s1508', '_35s1403', '_35s1503', '_35s1411', '_35s1511', '_35s1410', '_35s1510', '_35s1406', '_35s1506', '_35s1405', '_35s1505', '_35s1409', '_35s1509', '___дерево', '__________развивающая', '_600р', '_____________________________________________________________видеонаблюдение', '_кондиционер', '___авто', '_your_nail_fairy_', '_сокол', '_________________________________________________________область', '_oфис', '_mimison_', '_e15_', '______________есть', '_______________доставка', '_п_п_', '_______________________________1442', '________________________4000', '______________________380в', '_____________________127', '_______________________________2', '___________________________3420', '________________2800', '_волос', '_europe_nmint', '_germany_mint', '_____8870', '____________________новый_____________________', '_e10_', '_n_', '_j10_', '_j8_', '_j9_', '____насос', '__belle', '____т', '___т', '_нитритная', '_tata_dessert', '__________ас', '_весна', '_продан', '_core_i7_6500u', '____________________________________________прайс', '_e150_', '__погрузка', '__квартирные', '__уборка', '__земляные', '__подсобники', '__сделаем', '__бережно', '__работаем', '__звоните', '_princesssa_sofia', '_c', '_смотрите_мои_объявления_', '______________________________________________________________________________________', '__________850', '________1800', '____________________150', '_____________________1000', '__________________________1100', '_________________700', '______________________________700', '__________________________550рм3', '_оригинал_', '__2', '_a3_', '_a4_', '_производитель', '___р', '__переборка', '___переборка', '___устройство', '___укладка', '___замена', '___супер', '_2690р_', '_2290р_', '_v4_', '_v6_', '_____________преимущества_________________', '____________характеристика_________________', '___________оплата', '___________гарантия', '_характеристики_', '_coнoмa', '_a1_', '_a2_', '_chinslove_', '______куртка', '______штаны', '_600руб', '_100руб', '_450руб', '_80', '_500руб', '_650', '___what', '________просьба', '___самая', '_072', '_свыше', '_2013', '_спецэмаль_', '_клатч', '_за', '_1001254', '_25', '________________________________________________________________________', '____безобмана', '__________________________________________________________как', '_snowllner', '_055', '______7610', '_любых', '_roses', '___донцова', '______милевска', '__абушков___________________________ашхабадский', '___пишите', '___покупателям__хороший___', '____60', '___качественный', '___прочный', '___24', '___встроенный', '___характеристики___', '_t17_', '________меня', '_вывоз', '_разбирает', '_250', '___350', '________продан', '_____продан', '____продан', '____com', '______8930', '_смотрите_в_профиле_др', '_мои_объявления', '_maтepиaл', '_гapaнтия', '____технические', '____комплектация____', '____описание____', '__53x74mm___', '__36x105mm_____', '______58x113mm________', '_____56x97mm_____', '___75x72mm____________', '__80x88mm___', '___91x104mm____', '___75x85mm_____', '_valery_manicure', '_вода', '_kosmetolog_talnah_vld_', '____________цена', '_мембрана', '_частотный', '_диаграмма', '_входное', '_чувствительность', '_spl', '_perfume_39kld_', '_27', '_magic_balloons_', '_________________3100', '_3990', '____________________3500', '________________2950', '______________3200', '___________________3900', '____электрокотел', '_носят', '__________shel_lak_74_____________', '_20', '_аппаратный', '_маникюр', '_дизайн', '_чтение', '_логопед_память', '__проц', '__жесткий', '__оперативная', '__ос', '__бп', '__win7pro', '__650', '_курс', '__1___1', '_182', '_beauty_from_diii_', '_35s1512', '_35s1412', '_35s1513', '_35s1415', '_35s1516', '_35s1413', '_35s1514', '_35s1414', '_35s1515', '_35s1418', '_35s1519', '_35s1416', '_35s1517', '_множество', '___на', '___оперативной', '___жёсткий', '___video', '_人____人_', '_________________________________________________________________________________________________________________________________________________________________________', '____________________________________________________________________________________________', '_тк', '_69', '_танатос', '_война', '_пирсинг', '_линии', '_экстаз', '_киоко', '_отель', '_мисо', '_меланхолия', '__приведёшь', '_glasscar_', '_____________ас', '_связь', '_литье', '____цена', '______529', '______862', '______402', '______690', '______230', '______368', '__________114', '__________144', '____96', '____115', '____124', '__________120', '___________90', '_____________400', '________________400', '_________________________________________500', '_ksenchik_ptenchik', '_cheekyofficial', '_класс', '_ekaterina_igoshina20_', '_отвечаем', '_____________________________5lp', '_master', '_поперечка', '_____________________________________________________________________________________________________________________________________', '_dom', '_натяжной', '__своя', '__преимущество', '_свое', '_данный', '_нахождение', '________________________________________________________________________________________', '_radost_newborn', '__доставка', '_________________________________________________________________________________', '____бесплатная', '_таунхаус', '_комплекс', '__дополнительно', '__прилегающий', '__коммуникации', '__газовый', '__за', '___фанера', '_картина', '_____________________________10', '_____________340', '______________420', '______________________________1180х435х850', '__________________________________81', '_010', '_street_air', '__________________ваши', '_________________гарантия', '_____________________контакты__________________________', '__kat_spb_nails__', '______________________________________________________удочка', '_7800', '_mur_mur18', '__асфальтируем', '__укладка', '__устройство', '_торт', '_наполеон', '_медовик', '_бисквит', '_кята', '__нагибин', '__барто', '__толстой', '__кэрролл', '__пушкин', '__крылов', '__коржиков', '__погодин', '__где', '__айвенго', '__сказки', '__колпакова', '__житков', '__чуковский', '__котляр', '__балинт', '__кокорин', '_наша', '_самосвал', '_двина', '__сами', '___также', '________________________________цена', '_автоматическая', '_бесплатно', '_ритуалы_', '_msk', '_разгрузка', '_______первое', '_____второе', '________третье', '________четвёртое', '_gift_box_spb_', '_______234', '______________________________________________________универсальная', '_надёжная', '_безопасно', '_доступная', '_2019г', '___3вoнить', '_______________2', '_________________________1', '_________1500', '____________35', '___________20', '___________10', '_______2', '_________________________ni', '_____________________1', '__________________12', '________________1', '___________________импульсное', '_бежевые', '_super_ears_', '_фабричная', '_подробнее', '___просто', '_4шт', '_грамотно', '________9', '____________19', '____________22', '_8', '____________________________________________________________сварка', '_оригинальные', '_1500', '_005', '_shop', '______________________ас', '_принтеры', '_v', '__________________характеристика______________________', '____хaрaктecтики', '_______________________________________________________а', '_________________________________________________________как', '_00239', '_любая', '______7540', '_germany_nmint', '_77c1406a', '___________2', '___________32', '_n1_', '_____8250', '_он', '_v30', '_v40', '_e12j_', '__есть__', '_l1_', '_e3_', '_z10_', '_f2_', '_f3_', '_f4_', '_j2_', '_z1_', '_c1_', '_l2_', '_u3_', '_аргонная', '_полуавтоматическая', '_газовая', '_ремонт', '_электродуговая', '__________отличие', '_makka_has', '_12мп', '_10', '_работаете', '_________________________________________________________есть', '_lta_fitness', '_указан', '_комбинированные', '_кросовки', '_кроксы', '_чуни', '_vanilnoe_obla4ko_', '____продается', '_lightstar', '_тюнер', '_магнитофон', '_________________________________________________________компания', '______________6', '_человек', '_кроватка', '_вместительный', '_безопасное', '_рейки', '______________прямой', '_зbоните', '_акция_', '_vysheneba_', '_звонок', '_di_nails_krd', '__________________________________________________________осуществляем', '_welding_shop_717', '___уcловия', '____хaрактеcтики', '_зарядник', '____материал', '__________цена', '____наша', '________комплектация', '_______13080', '_торг', '_находятся', '____________не', '_det_sad_sovenok', '_фирма', '_ворота', '_перила', '_козырьки', '_решетки', '___________дополнительно', '________________________выгоды__________________________', '_h1_', '_h2_', '_h10_', '_________________________________________________________следите', '___________услуги', '_v3_', '_p12_', '_p9_', '_myonelife_', '_pcb_v1', '_007', '__бронь', '_pavlova', '_ips_a_v1', '________________быстрая', '________________без', '_____________большой', '_______________________________________________________________________________________________________', '_планета', '_старла', '__windows', '__17', '__19', '__20', '__22', '__23', '__кофта', '__вельветовые', '__джинсики', '__фирменные', '_передняя', '_______________________________________________в', '_______свежая', '______есть', '________коррозии', '_80руб', '_110', '_____автосалон', '_maks00700', '____________технические', '_102', '_весну', '__пришвин', '__соколов', '__улыбка', '__филатов', '__сетон', '__мой', '__кошки', '__эттенборо', '__амос', '__4', '__флинт', '__папикьян', '__зуев', '__и', '__митыпов', '__в', '__мамин', '__лыньков', '__акимушкин', '__новиков', '__6', '__а', '__игорь', '__байрам', '_73', '_1100', '_1969', '_1200', '_1960', '_700', '_kharlisa_', '_______7', '_______8', '_______9', '_______10', '_______11', '_______15', '_______16', '_______17', '_______18', '_ttp', '_alex_flowers', '_________________________тех', '_новые_', '_jaklvj', '________диаметр', '______________________________________________________________________________________________________', '_039', '_________техника', '_глонасс_2sim', '_ledi_jem_', '__математика', '__словарь', '__дроздов', '__михаил', '__энни', '__шахрова', '__фенглер', '__головные', '__демачева', '__кайдалова', '__вакс', '__оттон', '__російсько', '__кэрол', '__справочная', '__рыболов', '__власова', '__ромашка', '_любовью_квашим_ручкам_иножкам', '_н', '_о', '__300', '_47см', '__________1', '______экологический', '______при', '___________сделку', '__________краснодару', '______________краснодарскому', '___________________республике', '_6290', '_6590', '_весь', '_введите', '____________________________________гостиная', '___________новые________', '____________бу____________', '___чтения', '____э', '____любoй___', '____ждём', '_pled_kzn', '_______________________звоните', '_______________________приходите', '_princesssa_', '_беседку', '_______болгарский', '___насос', '______________30000руб', '_хлопок', '_36', '_кролик', '____внимание', '____ведь', '_________________________________________________________прочистка', '_letique_krd', '_xl', '_кошелек', '_____________________________________________________в', '_____________________________________________________наличный', '______________________________окончательную', '__________________________внимательно', '_официальное', '_сменный', '_srdlzag', '_горчичный', '_м', '__кабина', '__прежде', '__индивидуальный', '_дом', '_820р', '____________________________________________________________________________________________________________________________', '__________свободная', '_j7_', '_тормозные', '_обоснованный_', '_пленочное_', '_____________авто', '________________шапочка', '_____комплект', '_____полный', '________85000', '___________95000', '________run', '_nastya', '____35р', '______полиграфия', '_банкеты', '_европейская', '_паровые', '_пенные', '_караоке', '_бесплатный', '_кальян', '_showм', '__________________________________________т', '_длина_высота_ширина', '_подложка', '_26', '___отдаю', '_s', '_шт', '_мощность', '_сопротивление', '_овал', '_мм', '_nordway', '_высококвалифицированные', '_заводские', '_кабин', '__также_', '_дает', '_резиночка', '_______________________________lga1366', '_____цепь', '____гидронатяжитель', '______направляющая', '_______успокоитель', '_leeeemur_', '___200р', '___по', '___продано', '_бурение', '_наименование', '_наши', '_по', '_____8820', '___________урожай', '_043', '_трех', '_зимний', '_________________________________________________________________________________________________________________', '___имеются', '_р', '_shmidt_95', '__райдер', '__хэлловэлл', '_бона', '_rostovbon_61', '__теги_______________', '_15см', '_самые', '__7jх17__5х114', '_______6110', '___________________________________автоэксперт', '_________________________________________________________разбор', '_описание', '_с', '_________________________________________________________________________________________так', '_iserve_', '_h', '_e12t_', '___________________преимущества_______________________', '__________________характеристика_______________________', '_ц', '_транзит', '_мондео', '___10980', '_фото', '_560р', '__3', '_650p', '_спб', '_отправка', '_норка', '_________работа', '_дверные', '_152', '_стандартная', '_43', '_обучается', '_мобильная', '_передвигается', '_оснащена', '_понимает', '_ведет', '_засыпает', '_950', '_nail', '_________starexclub', '_вывoз', '_ввоз', '_вывезти', '_a_', '___в', '_velure', '___вопросы', '_014', '_носит', '_перейдите', '____сохрани', '____просто', '_150р', '_130р', '_________автоателье', '______________диски', '_bezze_nsk_', '_58', '_самый', '_двор', '_видеонаблюдение', '_вид', '_фитнес', '_к', '_метро', '_могу', '__100__рублей_', '_resnits_', '_что', '_противопоказания', '_a_nails_r_', '_ипотека', '_170', '_up', '_koval_instruktor_123', '_brovushki_', '____________оформляю', '__песок', '_модель', '_germany_', '_2149', '_start_99_', '_беньзин', '_1300', '_1985', '_1975', '_12___________________________________', '_откуда', '_карабельный', '_80b', '_______1500', '__________1000', '_________1000', '_____________3000р', '________________________________1000р', '_______1000руб', '________1000руб', '_______500', '________500', '__________4000р', '_____1500р', '__________2000р', '_____________2000р', '____2500р', '_видеокарты', '__ozerco__', '_италия', '___1', '__whatsapp__viber', '_baby__coach', '_95_', '_94_', '_96_', '_92_', '_93_', '_складываеться', '_ножки', '_выдерживает', '_экокожа', '_пластмассовая', '___21', '__hdmi', '___11', '_______12380', '_капиталка', '_зеркала', '_сиденья', '_мафон', '_ступицы', '_центральный', '_новая', '_туманки', '_пневмогудок', '_выросла', '____фото', '____фото4', '____фото6', '_всё', '_mini__miss', '_x9_', '_h8_', '______купи', '__________34', '___________4', '____________9', '_______________________________________________продан', '_________________________________________продан', '___харaктеристики', '___акции', '__api', '_ф', '_справочник', '__8кубов', '_____________________________________________________________________________________________________', '_популярная', '_fосus', '__valeri_nails__', '_28', '_до_', '_ахтарска', '_____мы', '_1400р', '_1600р', '_300р', '_100р', '_50р', '_16', '_aktiviti', '_черный', '_khruleva_ekaterina_', '_прилагаю', '_от10', '_от7', '_от5', '_возможна', '_kartini', '_ширина', '__всё', '_ботокс', '_кератиновое', '_полировка', '_стрижки', '_биозавивка', '_причёски', '_окрашивание', '_наращивание', '_wi', '_холодильник', '_стиральная', '_mvasilkina_', '_margaritavasilkina_', '_______________преимущества________________', '_____________характеристика________________', '_________________контакты____________________', '_материнская', '_видеокарта', '_оперативная', '_жесткий', '_блок', '_системник', '___________внимание', '_v5_', '_накидку', '___с', '_98', '___discovering', '___instrument', '___aviation', '___commercial', '___appendices___', '________________подходит', '___450p________', '_даём', '_____платье', '_____палантин', '_____шубка', '_____сумочка', '_сэмплы', '_256', '_клавиатура', '_акустический', '_настройки', '_количество', '_поддержка', '_тембры', '_полифония', '_34', '_функции', '_запись', '_usb', '_технология', '_303', '_вход', '_разъёмы', '_усилители', '_шар', '_irfz44n', '_тошиба', '_______пример', '_вышивка', '_kladka', '_59', '_candy__furshet__posuda', '_легкие', '_натуральная', '_от', '_магазин', '___________________цена', '______________23650', '_________________4900', '_вся', '_пробег', '_сел', '_гаражное', '_пригнана', '_остальные', '_подстаканник', '_бампер', '_дождевик', '_чехол', '_бамбуковый', '_корзина', '_ремень', '_инструкция', '_20р', '_25р', '_osetia', '_500_р', '_300_р', '_200_', '_____8910', '_белозёрск', '_ов', '__самовывоз', '_лоджия', '_состояние', '_общие', '_размеры', '_деревянный', '_yasyreva_', '_двухнедельная', '_преимущества', '___без', '__генри', '__фридрих', '__советский', '__м', '__поэзия', '__державин', '__п', '__савва', '__куприн', '__уральские', '__повести', '__бальмонт', '__бестужев', '__николай', '__джеймс', '__мартен', '__франс', '__фламенка', '__гофман', '__эмпедокл', '__мериме', '__уайльд', '__публий', '__рабиндранат', '_200рублей', '_______в', '_режим', '______________230', '____720', '_41', '_3_', '_5_', '_1900', '_009', '_i7', '______vimeo', '________________ас', '_удлинение', '_______8160', '_книг', '_планка', '____мальчикам____', '_________________________________________________________водительская', '_113', '_перегрузка', '________________преимущества_______________', '______________характеристика_______________', '_rw', '_номинальная', '_максимальная', '_двойная', '_импеданс', '_резонансная', '_материал', '__________________________________________________________монтаж', '_столик_', '_три', '_42р', '_________________сетка', '_vashvigvam', '__1500тр', '__3тр', '__1000тр', '___7тр', '___не', '__200р', '__________________________________________________________вообще', '_europe_mint', '__монитор', '_tiny_brook_', '_прайс_', '___________p', '_______p', '_массив', '_1тр', '______________________40', '____вежливые', '____косметический', '____все', '____опыт', '____электрика', '____работаем', '_другого', '__intel', '___забирать', '___от', '_самовывоз', '_рядом', '_коммуникации', '_участок', '_пиши', '______все', '_речной', '_мытый', '__шт', '____________авто', '_hand_care_', '_forms_kazan', '_097', '_100км', '_1ф', '_генеральная', '_сухая', '_________________________________________________________________________________________', '_стоп', '_700рублей', '________развивающая', '_строится', '__зарекомендовали', '_beauty_naiils_', '_________________________________________________________разборка', '_s_', '_amina', '_____любой', '_при', '___тренажёр', '_keratin_botox_rnd_', '_________________15', '________________пепельница', '________________подсвечник', '_intext', '_suvorova', '_одну', '_________________________________________________________________________________________________________', '________________________________________________________________________________________________________', '__можно', '_beauteous_hair', '_flower', '_xenon_01_', '_a3', '_восковые', '_77', '_кредит', '_044', '_11шт', '_______это', '_береза', '_______________________________________________________для', '_belosneshka2727', '_261_', '_интерес', '_ежедневное', '_glow_photo_', '_izerhf', '______________преимущества_________________', '______________характеристика_________________', '____________оплата', '____________гарантия', '____полный', '_photo_epil_', '_там', '___размер', '_то', '_cis', '_eu2_k54295n', '_france_k54295n', '_russia', '_eu2', '_denmark', '_eu', '_набор', '_12e01', '_____________оптом', '_____11770', '______во', '___________________________________________________10', '_____________________________________________________12', '______________________________________________________13', '_____________________________________________________14', '______________________________________________________15', '___api', '_42', '_304', '_щенячий', '_фигурки', '_мальчик', '_ben', '_wear_brands_superfit', '_добрый', '_031', '_джинсы', '_капот', '_решетка', '_передний', '_крыло', '_фара', '_радиатор', '_вентилятор', '_усилитель', '_домик', '_корпус', '_стойка', '_поворотный', '_компрессор', '_генератор', '_привод', '_ступица', '_расширительный', '_бачок', '_крышка', '_фонарь', '_зеркало', '_аэрбег', '_дверь', '_шлейф', '_спидометр', '_руль', '_рулевой', '_подушка', '_панель', '_магнитола', '_суппорт', '_рычаг', '_топливные', '_стартер', '_опора', '_катушка', '_акпп', '_двигатель', '__essens__production', '_max', '___заказ', '_107', '___уcлoвия', '____характecтики', '__________________________каждому', '_002', '___это', '______и', '_di_nails_di_']\n",
            "Всего таких слов:  2043\n"
          ]
        }
      ],
      "source": [
        "from string import punctuation\n",
        "import re\n",
        "\n",
        "dicti = list(cnt_vec.vocabulary_.keys()) # передаю все возможные значнения и формирую из них датафрейм\n",
        "\n",
        "numbin = len(list(filter(re.compile(^r\"[0-9]\").match, dicti))) # выбираю только значения, которые начинаются с цифр\n",
        "print(\"Всего слов, которые начинаются с цифры: \", numbin) \n",
        "\n",
        "punctin = list(filter(re.compile(^r\"[{}]\".format(punctuation)).match, dicti)) # выбираю только значения, которые начинаются с символов пунктуации\n",
        "print(\"Все слова, которые начинаются на символы пунткуации:\\n\", punctin)\n",
        "print(\"Всего таких слов: \", len(punctin)) "
      ]
    },
    {
      "cell_type": "code",
      "execution_count": null,
      "metadata": {
        "id": "7nH0-F3h2nYN",
        "outputId": "60b08848-0425-4597-aad1-5a57620e9f0f"
      },
      "outputs": [
        {
          "name": "stderr",
          "output_type": "stream",
          "text": [
            "[nltk_data] Downloading package punkt to\n",
            "[nltk_data]     C:\\Users\\Nazim\\AppData\\Roaming\\nltk_data...\n",
            "[nltk_data]   Package punkt is already up-to-date!\n",
            "[nltk_data] Downloading package stopwords to\n",
            "[nltk_data]     C:\\Users\\Nazim\\AppData\\Roaming\\nltk_data...\n",
            "[nltk_data]   Package stopwords is already up-to-date!\n"
          ]
        },
        {
          "data": {
            "text/plain": [
              "True"
            ]
          },
          "execution_count": 16,
          "metadata": {},
          "output_type": "execute_result"
        }
      ],
      "source": [
        "from nltk.stem.snowball import SnowballStemmer\n",
        "from nltk.tokenize import word_tokenize\n",
        "from nltk.corpus import stopwords\n",
        "import nltk\n",
        "nltk.download('punkt')\n",
        "nltk.download('stopwords')"
      ]
    },
    {
      "cell_type": "code",
      "execution_count": null,
      "metadata": {
        "id": "mJCk0J4P2nYN"
      },
      "outputs": [],
      "source": [
        "def tokenizer_ow(strok: str) -> list:\n",
        "    strok = strok.lower() # перевожу все буквы в нижний регистр\n",
        "    strok = word_tokenize(strok) # разделяю слова и символы пунктуации\n",
        "    # беру значения, в которых нет цифр и символов пунктуации\n",
        "    strok = pd.DataFrame(filter(re.compile(r\"^[a-zа-я]+$\").search, strok))\n",
        "    # беру значения, которые не являются стоп-словами\n",
        "    if not strok.empty: strok = strok[[let not in stopwords.words('russian') for let in strok[0]]]\n",
        "    stemmer = SnowballStemmer('russian')\n",
        "    stemmed = []\n",
        "    # произвожу стемминг слов\n",
        "    if not strok.empty: stemmed = [stemmer.stem(w) for w in strok[0]]\n",
        "    return stemmed"
      ]
    },
    {
      "cell_type": "code",
      "execution_count": null,
      "metadata": {
        "id": "WXeTuiwO2nYN",
        "outputId": "c096a18e-b3c7-4eea-9e5d-24177fd46064"
      },
      "outputs": [
        {
          "data": {
            "text/plain": [
              "['эб',\n",
              " 'renault',\n",
              " 'nissan',\n",
              " 'dci',\n",
              " 'delphi',\n",
              " 'год',\n",
              " 'комплект',\n",
              " 'эб',\n",
              " 'мозг',\n",
              " 'компьютер',\n",
              " 'мотор',\n",
              " 'двигател',\n",
              " 'коммутатор',\n",
              " 'электрон',\n",
              " 'блок',\n",
              " 'управлен',\n",
              " 'двигател',\n",
              " 'компьютер',\n",
              " 'мотор',\n",
              " 'рен',\n",
              " 'kangoo',\n",
              " 'канг',\n",
              " 'канг',\n",
              " 'мега',\n",
              " 'сценик',\n",
              " 'laguna',\n",
              " 'лагун',\n",
              " 'clio',\n",
              " 'кли',\n",
              " 'nissan',\n",
              " 'micra',\n",
              " 'нисса',\n",
              " 'микр',\n",
              " 'друг',\n",
              " 'рен',\n",
              " 'нисса',\n",
              " 'дизел',\n",
              " 'топливн',\n",
              " 'аппаратур',\n",
              " 'делф',\n",
              " 'оригина',\n",
              " 'отличн',\n",
              " 'состоян',\n",
              " 'проверен',\n",
              " 'гарант',\n",
              " 'запчаст',\n",
              " 'предоставля',\n",
              " 'гарант',\n",
              " 'возможн',\n",
              " 'установк',\n",
              " 'подробн',\n",
              " 'раздел',\n",
              " 'компан',\n",
              " 'дорож',\n",
              " 'сво',\n",
              " 'репутац',\n",
              " 'торгу',\n",
              " 'легальн',\n",
              " 'контрактн',\n",
              " 'запчаст',\n",
              " 'дета',\n",
              " 'налич',\n",
              " 'таможен',\n",
              " 'документ',\n",
              " 'запчаст',\n",
              " 'автомобил',\n",
              " 'пробег',\n",
              " 'росс',\n",
              " 'отправля',\n",
              " 'друг',\n",
              " 'регион',\n",
              " 'таможен',\n",
              " 'союз',\n",
              " 'транспортн',\n",
              " 'компан',\n",
              " 'наложн',\n",
              " 'платеж']"
            ]
          },
          "execution_count": 18,
          "metadata": {},
          "output_type": "execute_result"
        }
      ],
      "source": [
        "tokenizer_ow(train[\"td\"][0])"
      ]
    },
    {
      "cell_type": "markdown",
      "metadata": {
        "id": "6MJ3oecd2nYO"
      },
      "source": [
        "### SGDClassifier\n"
      ]
    },
    {
      "cell_type": "code",
      "execution_count": null,
      "metadata": {
        "scrolled": true,
        "id": "u8k1OoG72nYP"
      },
      "outputs": [],
      "source": [
        "from sklearn.model_selection import train_test_split\n",
        "from sklearn.linear_model import SGDClassifier\n",
        "from sklearn.metrics import accuracy_score\n",
        "from sklearn.pipeline import Pipeline\n",
        "\n",
        "train_500 = train.sample(100000) # выбираю случайные строки из датасета\n",
        "cnt_vec_1 = CountVectorizer(tokenizer = tokenizer_ow) # создаю CountVectorizer со своим токенизатором\n",
        "X = cnt_vec_1.fit_transform(train_500[\"td\"]) # трансформирую выборку\n",
        "\n",
        "# разделяю выбранные строки на тестовую и тренировочную выборки\n",
        "X_train, X_test, y_train, y_test = train_test_split(train_500[\"td\"], train_500[\"Category\"], test_size = 0.2, shuffle = True)"
      ]
    },
    {
      "cell_type": "code",
      "execution_count": null,
      "metadata": {
        "id": "vpzcpqDO2nYP",
        "outputId": "7ce2febd-7748-4679-8a34-9cecb70caf45"
      },
      "outputs": [
        {
          "name": "stdout",
          "output_type": "stream",
          "text": [
            "Точность предсказания составляет: 0.8281\n"
          ]
        }
      ],
      "source": [
        "# создаю классификатор\n",
        "sgd = Pipeline([('vect', CountVectorizer(tokenizer = tokenizer_ow)), ('clf', SGDClassifier()),])\n",
        "sgd.fit(X_train, y_train) # обучаю классификатор\n",
        "\n",
        "print(\"Точность предсказания составляет:\", accuracy_score(y_test, sgd.predict(X_test)))"
      ]
    },
    {
      "cell_type": "markdown",
      "metadata": {
        "id": "F46KITZK2nYQ"
      },
      "source": [
        "###  tf-idf векторизация\n"
      ]
    },
    {
      "cell_type": "code",
      "execution_count": null,
      "metadata": {
        "id": "1dUMvtmk2nYR",
        "outputId": "f1cab13e-82fd-41b3-a092-95c7b838816d"
      },
      "outputs": [
        {
          "name": "stdout",
          "output_type": "stream",
          "text": [
            "Точность предсказания составляет: 0.832\n",
            "  (0, 70732)\t0.11899651121610993\n",
            "  (0, 78963)\t0.16200830089235596\n",
            "  (0, 56036)\t0.18158581763403234\n",
            "  (0, 64765)\t0.14609202576055735\n",
            "  (0, 65938)\t0.42826868481769936\n",
            "  (0, 42817)\t0.27814554633463484\n",
            "  (0, 16473)\t0.3674739981098324\n",
            "  (0, 67673)\t0.7137651581407033\n",
            "  (1, 34125)\t0.09655037618105443\n",
            "  (1, 52058)\t0.12237946098838429\n",
            "  (1, 58138)\t0.1414436085112835\n",
            "  (1, 50863)\t0.11181529828318214\n",
            "  (1, 44867)\t0.08321609974335734\n",
            "  (1, 54596)\t0.13328280994251288\n",
            "  (1, 40775)\t0.0906065580025261\n",
            "  (1, 55425)\t0.1252036812985375\n",
            "  (1, 73057)\t0.1290302306065464\n",
            "  (1, 80020)\t0.11617308958491457\n",
            "  (1, 42702)\t0.11470033947833404\n",
            "  (1, 68047)\t0.15848276921803048\n",
            "  (1, 35776)\t0.1078806283780616\n",
            "  (1, 80698)\t0.11150408218221584\n",
            "  (1, 14337)\t0.15620408014271991\n",
            "  (1, 57274)\t0.10510539061284879\n",
            "  (1, 30626)\t0.08600846867556221\n",
            "  :\t:\n",
            "  (99998, 66585)\t0.20185737383068697\n",
            "  (99998, 76884)\t0.2271606982333777\n",
            "  (99998, 71573)\t0.21633335410807938\n",
            "  (99998, 59903)\t0.2003272771213441\n",
            "  (99998, 72801)\t0.17961952502706666\n",
            "  (99998, 63645)\t0.14126532668144162\n",
            "  (99998, 67249)\t0.3852678932722205\n",
            "  (99998, 44194)\t0.12637875852632974\n",
            "  (99998, 46886)\t0.19657291388120882\n",
            "  (99998, 49322)\t0.15710376279719473\n",
            "  (99998, 39883)\t0.12949230616264823\n",
            "  (99998, 46114)\t0.11881186192794653\n",
            "  (99998, 77523)\t0.1381706601359415\n",
            "  (99998, 55640)\t0.1682812454439059\n",
            "  (99998, 59661)\t0.1522840092023481\n",
            "  (99998, 39491)\t0.1713209645878752\n",
            "  (99998, 29167)\t0.1281044536987027\n",
            "  (99998, 78800)\t0.1605484254337633\n",
            "  (99998, 61229)\t0.12917484391610307\n",
            "  (99998, 32851)\t0.10462916602846065\n",
            "  (99998, 66802)\t0.11442735411785736\n",
            "  (99998, 28972)\t0.28223961079054954\n",
            "  (99999, 43420)\t0.4593173428625907\n",
            "  (99999, 44592)\t0.8620854965890679\n",
            "  (99999, 62845)\t0.21409384651696486\n"
          ]
        }
      ],
      "source": [
        "from sklearn.feature_extraction.text import TfidfVectorizer\n",
        "\n",
        "tfidf_vec = TfidfVectorizer(tokenizer = tokenizer_ow, max_df = 0.9) # создаю TfidfVectorizer со своим токенизатором\n",
        "X = tfidf_vec.fit_transform(train_500[\"td\"]) # трансформирую выборку\n",
        "\n",
        "# создаю классификатор\n",
        "sgd = Pipeline([('vect', TfidfVectorizer(tokenizer = tokenizer_ow, max_df = 0.9)), ('clf', SGDClassifier()),])\n",
        "sgd.fit(X_train, y_train) # обучаю классификатор\n",
        "\n",
        "print(\"Точность предсказания составляет:\", accuracy_score(y_test, sgd.predict(X_test)))"
      ]
    },
    {
      "cell_type": "code",
      "execution_count": null,
      "metadata": {
        "id": "g3Qtf3JU2nYR",
        "outputId": "e2963b59-c87a-412f-91cc-12f79093e1ef"
      },
      "outputs": [
        {
          "data": {
            "text/plain": [
              "<100000x83041 sparse matrix of type '<class 'numpy.float64'>'\n",
              "\twith 2440307 stored elements in Compressed Sparse Row format>"
            ]
          },
          "execution_count": 29,
          "metadata": {},
          "output_type": "execute_result"
        }
      ],
      "source": [
        "X"
      ]
    },
    {
      "cell_type": "markdown",
      "metadata": {
        "id": "tvt1V7u82nYS"
      },
      "source": [
        "Матрица уменьшилась, а точность модели повысилась."
      ]
    },
    {
      "cell_type": "markdown",
      "metadata": {
        "id": "wNzlQau82nYS"
      },
      "source": [
        "### HashingVectorizer\n"
      ]
    },
    {
      "cell_type": "code",
      "execution_count": null,
      "metadata": {
        "id": "vSt75jkk2nYT",
        "outputId": "0980007e-c9aa-4ad3-9ea7-83255df53fdb"
      },
      "outputs": [
        {
          "name": "stdout",
          "output_type": "stream",
          "text": [
            "Точность предсказания составляет: 0.81225\n",
            "  (0, 2012)\t-0.30151134457776363\n",
            "  (0, 4916)\t0.30151134457776363\n",
            "  (0, 5715)\t-0.30151134457776363\n",
            "  (0, 8986)\t-0.30151134457776363\n",
            "  (0, 13157)\t-0.30151134457776363\n",
            "  (0, 20226)\t-0.30151134457776363\n",
            "  (0, 24112)\t0.30151134457776363\n",
            "  (0, 27872)\t-0.6030226891555273\n",
            "  (1, 1277)\t-0.11470786693528087\n",
            "  (1, 1316)\t-0.22941573387056174\n",
            "  (1, 1588)\t-0.11470786693528087\n",
            "  (1, 2197)\t0.11470786693528087\n",
            "  (1, 2590)\t-0.22941573387056174\n",
            "  (1, 3172)\t0.11470786693528087\n",
            "  (1, 4195)\t-0.11470786693528087\n",
            "  (1, 5929)\t-0.11470786693528087\n",
            "  (1, 6533)\t0.11470786693528087\n",
            "  (1, 6576)\t0.22941573387056174\n",
            "  (1, 6819)\t0.11470786693528087\n",
            "  (1, 7216)\t-0.11470786693528087\n",
            "  (1, 8344)\t0.22941573387056174\n",
            "  (1, 8448)\t-0.4588314677411235\n",
            "  (1, 9644)\t-0.11470786693528087\n",
            "  (1, 10094)\t-0.11470786693528087\n",
            "  (1, 10239)\t-0.11470786693528087\n",
            "  :\t:\n",
            "  (99998, 4362)\t-0.17677669529663687\n",
            "  (99998, 6723)\t0.17677669529663687\n",
            "  (99998, 7579)\t0.17677669529663687\n",
            "  (99998, 7955)\t-0.17677669529663687\n",
            "  (99998, 8186)\t0.17677669529663687\n",
            "  (99998, 13136)\t-0.17677669529663687\n",
            "  (99998, 13340)\t0.17677669529663687\n",
            "  (99998, 13706)\t0.17677669529663687\n",
            "  (99998, 15871)\t0.17677669529663687\n",
            "  (99998, 16011)\t-0.17677669529663687\n",
            "  (99998, 16093)\t-0.17677669529663687\n",
            "  (99998, 18941)\t0.17677669529663687\n",
            "  (99998, 21084)\t0.17677669529663687\n",
            "  (99998, 22578)\t0.17677669529663687\n",
            "  (99998, 22815)\t0.17677669529663687\n",
            "  (99998, 23684)\t-0.17677669529663687\n",
            "  (99998, 24713)\t-0.17677669529663687\n",
            "  (99998, 26130)\t-0.17677669529663687\n",
            "  (99998, 27757)\t0.17677669529663687\n",
            "  (99998, 28011)\t-0.17677669529663687\n",
            "  (99998, 29441)\t0.17677669529663687\n",
            "  (99998, 29799)\t-0.17677669529663687\n",
            "  (99999, 1469)\t0.4082482904638631\n",
            "  (99999, 19566)\t-0.4082482904638631\n",
            "  (99999, 21949)\t0.8164965809277261\n"
          ]
        }
      ],
      "source": [
        "from sklearn.feature_extraction.text import HashingVectorizer\n",
        "\n",
        "hash_vec = HashingVectorizer(tokenizer = tokenizer_ow, n_features = 30000)  # создаю HashingVectorizer со своим токенизатором\n",
        "X = hash_vec.fit_transform(train_500[\"td\"])  # трансформирую выборку\n",
        "\n",
        "# создаю классификатор\n",
        "sgd = Pipeline([('vect', HashingVectorizer(tokenizer = tokenizer_ow, n_features = 30000)), ('clf', SGDClassifier()),])\n",
        "sgd.fit(X_train, y_train) # обучаю классификатор\n",
        "\n",
        "print(\"Точность предсказания составляет:\", accuracy_score(y_test, sgd.predict(X_test)))\n",
        "\n",
        "X"
      ]
    },
    {
      "cell_type": "code",
      "execution_count": null,
      "metadata": {
        "id": "-80IaNyj2nYT",
        "outputId": "5c462728-7b64-496c-cc0b-171b5102db98"
      },
      "outputs": [
        {
          "data": {
            "text/plain": [
              "<100000x30000 sparse matrix of type '<class 'numpy.float64'>'\n",
              "\twith 2438296 stored elements in Compressed Sparse Row format>"
            ]
          },
          "execution_count": 31,
          "metadata": {},
          "output_type": "execute_result"
        }
      ],
      "source": [
        "X"
      ]
    },
    {
      "cell_type": "markdown",
      "metadata": {
        "id": "k2F2289A2nYU"
      },
      "source": [
        "Лучший результат показал векторизатор TfidVectorizer, недалеко ушел векторизатор CountVectorizer. Худший же результат у векторизатора  HashingVectorizer."
      ]
    },
    {
      "cell_type": "code",
      "execution_count": null,
      "metadata": {
        "id": "KAtub73W2nYV"
      },
      "outputs": [],
      "source": [
        ""
      ]
    }
  ],
  "metadata": {
    "kernelspec": {
      "display_name": "Python 3",
      "language": "python",
      "name": "python3"
    },
    "language_info": {
      "codemirror_mode": {
        "name": "ipython",
        "version": 3
      },
      "file_extension": ".py",
      "mimetype": "text/x-python",
      "name": "python",
      "nbconvert_exporter": "python",
      "pygments_lexer": "ipython3",
      "version": "3.8.5"
    },
    "colab": {
      "name": "Text-classification.ipynb",
      "provenance": [],
      "collapsed_sections": []
    }
  },
  "nbformat": 4,
  "nbformat_minor": 0
}